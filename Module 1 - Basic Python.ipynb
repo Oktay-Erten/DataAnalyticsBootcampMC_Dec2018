{
 "cells": [
  {
   "cell_type": "markdown",
   "metadata": {},
   "source": [
    "# Setting values to variables"
   ]
  },
  {
   "cell_type": "markdown",
   "metadata": {},
   "source": [
    "The value types that we will be using in this course are mainly int, float, and string values.\n",
    "\n",
    "- An int value is an integer (whole numbers)\n",
    "- A float value is a decimal number\n",
    "- A string value is alpha-numeric characters that cannot be mathematically computed; can use single or double quotes\n",
    "- The pound/hashtag (#) sign denotes comments, which is not read by python as code"
   ]
  },
  {
   "cell_type": "code",
   "execution_count": 1,
   "metadata": {
    "collapsed": true
   },
   "outputs": [],
   "source": [
    "x = 5 #int\n",
    "y = 7.23 #float\n",
    "z = 'hello world' #string"
   ]
  },
  {
   "cell_type": "code",
   "execution_count": 2,
   "metadata": {},
   "outputs": [
    {
     "name": "stdout",
     "output_type": "stream",
     "text": [
      "5\n",
      "7.23\n",
      "hello world\n"
     ]
    }
   ],
   "source": [
    "#use the \"print\" function to see the output of the values stored in the variables\n",
    "print(x)\n",
    "print(y)\n",
    "print(z)"
   ]
  },
  {
   "cell_type": "code",
   "execution_count": 3,
   "metadata": {
    "scrolled": true
   },
   "outputs": [
    {
     "data": {
      "text/plain": [
       "'hello world'"
      ]
     },
     "execution_count": 3,
     "metadata": {},
     "output_type": "execute_result"
    }
   ],
   "source": [
    "#Jupyter notebooks can display the output of a variable's value by typing the variable name but only will output the last \"called on\" variable\n",
    "\n",
    "y #this will not display\n",
    "z #this will display b/c it's the last"
   ]
  },
  {
   "cell_type": "code",
   "execution_count": 8,
   "metadata": {
    "scrolled": false
   },
   "outputs": [
    {
     "ename": "SyntaxError",
     "evalue": "invalid syntax (<ipython-input-8-0b6d4cb37ff6>, line 6)",
     "output_type": "error",
     "traceback": [
      "\u001b[1;36m  File \u001b[1;32m\"<ipython-input-8-0b6d4cb37ff6>\"\u001b[1;36m, line \u001b[1;32m6\u001b[0m\n\u001b[1;33m    x y z\u001b[0m\n\u001b[1;37m      ^\u001b[0m\n\u001b[1;31mSyntaxError\u001b[0m\u001b[1;31m:\u001b[0m invalid syntax\n"
     ]
    }
   ],
   "source": [
    "#Jupyter notebooks can display the output of a variable's value by typing the variable name but only will output the last \"called on\" variable\n",
    "\n",
    "y #this will not display\n",
    "#z #this will display b/c it's the last\n",
    "x\n",
    "x y z"
   ]
  },
  {
   "cell_type": "code",
   "execution_count": 9,
   "metadata": {
    "scrolled": true
   },
   "outputs": [
    {
     "data": {
      "text/plain": [
       "(5, 7.23, 'hello world')"
      ]
     },
     "execution_count": 9,
     "metadata": {},
     "output_type": "execute_result"
    }
   ],
   "source": [
    "#Jupyter notebooks can display the output of a variable's value by typing the variable name but only will output the last \"called on\" variable\n",
    "\n",
    "y #this will not display\n",
    "#z #this will display b/c it's the last\n",
    "x\n",
    "x, y ,z"
   ]
  },
  {
   "cell_type": "code",
   "execution_count": 10,
   "metadata": {
    "scrolled": true
   },
   "outputs": [
    {
     "data": {
      "text/plain": [
       "(12.23, 'hello world')"
      ]
     },
     "execution_count": 10,
     "metadata": {},
     "output_type": "execute_result"
    }
   ],
   "source": [
    "#Jupyter notebooks can display the output of a variable's value by typing the variable name but only will output the last \"called on\" variable\n",
    "\n",
    "y #this will not display\n",
    "#z #this will display b/c it's the last\n",
    "x\n",
    "x + y ,z"
   ]
  },
  {
   "cell_type": "code",
   "execution_count": 5,
   "metadata": {},
   "outputs": [
    {
     "data": {
      "text/plain": [
       "str"
      ]
     },
     "execution_count": 5,
     "metadata": {},
     "output_type": "execute_result"
    }
   ],
   "source": [
    "#the \"type\" function will tell you what data type a variable is\n",
    "type(z)"
   ]
  },
  {
   "cell_type": "code",
   "execution_count": 13,
   "metadata": {
    "scrolled": false
   },
   "outputs": [
    {
     "name": "stdout",
     "output_type": "stream",
     "text": [
      "12.23\n",
      "hello world\n"
     ]
    }
   ],
   "source": [
    "#variables can be added together\n",
    "a = x + y\n",
    "print(a)\n",
    "\n",
    "#also works for strings\n",
    "r = \"hello\"\n",
    "s = \"world\"\n",
    "print(r + \" \" + s)"
   ]
  },
  {
   "cell_type": "markdown",
   "metadata": {},
   "source": [
    "# If Statement\n",
    "\n",
    "- Checks if a condition is true\n",
    "- Python will auto-indent starting from the first line after the colon within the \"if\" statement\n",
    "- Indentation signifies the code that belongs to the \"if\" statement\n",
    "\n",
    "* Note: != is \"not equal to\""
   ]
  },
  {
   "cell_type": "code",
   "execution_count": 17,
   "metadata": {
    "scrolled": true
   },
   "outputs": [
    {
     "name": "stdout",
     "output_type": "stream",
     "text": [
      "It is not five.\n"
     ]
    }
   ],
   "source": [
    "#check to see if something is true\n",
    "x = 6\n",
    "if x == 5: #can also use other tests of equality >, <, !=\n",
    "    print(\"It is five.\")\n",
    "else:\n",
    "    print(\"It is not five.\")"
   ]
  },
  {
   "cell_type": "markdown",
   "metadata": {},
   "source": [
    "# Lists and For loops\n",
    "\n",
    "- A list is a container for multiple values\n",
    "- Python position counting (called \"index\") starts from 0\n",
    "- A for loop goes through each item within a list and executes the code that should be done for each item\n",
    "- Python will auto-indent starting from the first line after the colon within the \"for\" loop"
   ]
  },
  {
   "cell_type": "code",
   "execution_count": 15,
   "metadata": {
    "collapsed": true
   },
   "outputs": [],
   "source": [
    "#this is a list with 3 items; the index count is 0, 1, 2\n",
    "colors = ['red', 'yellow', 'blue']"
   ]
  },
  {
   "cell_type": "code",
   "execution_count": 16,
   "metadata": {
    "scrolled": false
   },
   "outputs": [
    {
     "name": "stdout",
     "output_type": "stream",
     "text": [
      "red\n",
      "yellow\n",
      "blue\n"
     ]
    }
   ],
   "source": [
    "#iterating through a list\n",
    "for color in colors:\n",
    "    print(color)"
   ]
  },
  {
   "cell_type": "code",
   "execution_count": 20,
   "metadata": {},
   "outputs": [
    {
     "name": "stdout",
     "output_type": "stream",
     "text": [
      "None\n",
      "['blue', 'red', 'yellow']\n"
     ]
    }
   ],
   "source": [
    "print(colors.sort())\n",
    "print(colors)"
   ]
  },
  {
   "cell_type": "code",
   "execution_count": 25,
   "metadata": {
    "scrolled": false
   },
   "outputs": [
    {
     "name": "stdout",
     "output_type": "stream",
     "text": [
      "blue\n",
      "red\n",
      "yellow\n"
     ]
    }
   ],
   "source": [
    "#iterating through a list\n",
    "#sorted_colors[] = colors.sort()\n",
    "for color in sorted_colors:\n",
    "    print(color)"
   ]
  },
  {
   "cell_type": "code",
   "execution_count": 24,
   "metadata": {},
   "outputs": [
    {
     "name": "stdout",
     "output_type": "stream",
     "text": [
      "['blue', 'red', 'yellow']\n"
     ]
    }
   ],
   "source": [
    "sorted_colors = colors\n",
    "print(sorted_colors)"
   ]
  },
  {
   "cell_type": "markdown",
   "metadata": {},
   "source": [
    "- The len function returns the length (number of) items"
   ]
  },
  {
   "cell_type": "code",
   "execution_count": 26,
   "metadata": {},
   "outputs": [
    {
     "name": "stdout",
     "output_type": "stream",
     "text": [
      "3\n",
      "11\n"
     ]
    }
   ],
   "source": [
    "print(len(colors))\n",
    "print(len(z)) #also works on counting characters (including spaces and punctuation) in a string"
   ]
  },
  {
   "cell_type": "code",
   "execution_count": 36,
   "metadata": {
    "scrolled": false
   },
   "outputs": [
    {
     "name": "stdout",
     "output_type": "stream",
     "text": [
      "blue\n",
      "4\n",
      "red\n",
      "3\n",
      "yellow\n",
      "6\n"
     ]
    }
   ],
   "source": [
    "#iterating through a list\n",
    "#sorted_colors[] = colors.sort()\n",
    "for color in colors:\n",
    "    print(color)\n",
    "    print(len(color))"
   ]
  },
  {
   "cell_type": "markdown",
   "metadata": {},
   "source": [
    "- To \"slice\" a list is to look at particular specified values\n",
    "- The first number is the starting index of the value to get and the 2nd number after the colon is the index to stop at (not inclusive)"
   ]
  },
  {
   "cell_type": "code",
   "execution_count": 27,
   "metadata": {
    "scrolled": true
   },
   "outputs": [
    {
     "data": {
      "text/plain": [
       "['Tuesday', 'Wednesday', 'Thursday', 'Friday']"
      ]
     },
     "execution_count": 27,
     "metadata": {},
     "output_type": "execute_result"
    }
   ],
   "source": [
    "days = ['Sunday', 'Monday', 'Tuesday', 'Wednesday', 'Thursday', 'Friday', 'Saturday']\n",
    "days[2:6] #2nd number is up to but not including that index number"
   ]
  },
  {
   "cell_type": "code",
   "execution_count": 37,
   "metadata": {
    "scrolled": true
   },
   "outputs": [
    {
     "data": {
      "text/plain": [
       "['Tuesday', 'Wednesday', 'Thursday', 'Friday', 'Saturday']"
      ]
     },
     "execution_count": 37,
     "metadata": {},
     "output_type": "execute_result"
    }
   ],
   "source": [
    "days = ['Sunday', 'Monday', 'Tuesday', 'Wednesday', 'Thursday', 'Friday', 'Saturday']\n",
    "days[2:7] #2nd number is up to but not including that index number"
   ]
  },
  {
   "cell_type": "code",
   "execution_count": 38,
   "metadata": {
    "scrolled": true
   },
   "outputs": [
    {
     "data": {
      "text/plain": [
       "['Tuesday', 'Wednesday', 'Thursday', 'Friday', 'Saturday']"
      ]
     },
     "execution_count": 38,
     "metadata": {},
     "output_type": "execute_result"
    }
   ],
   "source": [
    "days = ['Sunday', 'Monday', 'Tuesday', 'Wednesday', 'Thursday', 'Friday', 'Saturday']\n",
    "days[2:] #2nd number is up to but not including that index number"
   ]
  },
  {
   "cell_type": "code",
   "execution_count": 39,
   "metadata": {
    "scrolled": true
   },
   "outputs": [
    {
     "data": {
      "text/plain": [
       "['Tuesday', 'Wednesday', 'Thursday', 'Friday', 'Saturday']"
      ]
     },
     "execution_count": 39,
     "metadata": {},
     "output_type": "execute_result"
    }
   ],
   "source": [
    "days = ['Sunday', 'Monday', 'Tuesday', 'Wednesday', 'Thursday', 'Friday', 'Saturday']\n",
    "days[2:8] #2nd number is up to but not including that index number"
   ]
  },
  {
   "cell_type": "code",
   "execution_count": 40,
   "metadata": {
    "scrolled": true
   },
   "outputs": [
    {
     "data": {
      "text/plain": [
       "['Tuesday', 'Wednesday', 'Thursday', 'Friday']"
      ]
     },
     "execution_count": 40,
     "metadata": {},
     "output_type": "execute_result"
    }
   ],
   "source": [
    "days = ['Sunday', 'Monday', 'Tuesday', 'Wednesday', 'Thursday', 'Friday', 'Saturday']\n",
    "days[2:-1] #2nd number is up to but not including that index number"
   ]
  },
  {
   "cell_type": "code",
   "execution_count": 41,
   "metadata": {
    "scrolled": true
   },
   "outputs": [
    {
     "data": {
      "text/plain": [
       "['Sunday', 'Monday', 'Tuesday', 'Wednesday', 'Thursday', 'Friday']"
      ]
     },
     "execution_count": 41,
     "metadata": {},
     "output_type": "execute_result"
    }
   ],
   "source": [
    "days = ['Sunday', 'Monday', 'Tuesday', 'Wednesday', 'Thursday', 'Friday', 'Saturday']\n",
    "days[0:6] #2nd number is up to but not including that index number"
   ]
  },
  {
   "cell_type": "code",
   "execution_count": 42,
   "metadata": {
    "scrolled": true
   },
   "outputs": [
    {
     "data": {
      "text/plain": [
       "['Tuesday', 'Wednesday', 'Thursday']"
      ]
     },
     "execution_count": 42,
     "metadata": {},
     "output_type": "execute_result"
    }
   ],
   "source": [
    "days = ['Sunday', 'Monday', 'Tuesday', 'Wednesday', 'Thursday', 'Friday', 'Saturday']\n",
    "days[2:-2] #2nd number is up to but not including that index number"
   ]
  },
  {
   "cell_type": "markdown",
   "metadata": {},
   "source": [
    "# Def function\n",
    "\n",
    "- Used to write code to create your own function\n",
    "- Python will auto-indent starting from the first line after the colon within the \"def\" function\n",
    "- The blue letters are the name of your function (no spaces)\n",
    "- Inside the parentheses are the placeholder variables for the arguments (what will be passed into the function to compute on)\n",
    "- The return function sends back the value after the function is finished\n",
    "- The def function does not produce output, but stores the function in-memory; the function must be called"
   ]
  },
  {
   "cell_type": "code",
   "execution_count": 69,
   "metadata": {},
   "outputs": [
    {
     "name": "stdout",
     "output_type": "stream",
     "text": [
      "6\n"
     ]
    }
   ],
   "source": [
    "print (x)"
   ]
  },
  {
   "cell_type": "code",
   "execution_count": 71,
   "metadata": {},
   "outputs": [
    {
     "ename": "NameError",
     "evalue": "name 'Original' is not defined",
     "output_type": "error",
     "traceback": [
      "\u001b[1;31m---------------------------------------------------------------------------\u001b[0m",
      "\u001b[1;31mNameError\u001b[0m                                 Traceback (most recent call last)",
      "\u001b[1;32m<ipython-input-71-0105cfd11eeb>\u001b[0m in \u001b[0;36m<module>\u001b[1;34m()\u001b[0m\n\u001b[1;32m----> 1\u001b[1;33m \u001b[0mprint\u001b[0m \u001b[1;33m(\u001b[0m\u001b[0mOriginal\u001b[0m\u001b[1;33m)\u001b[0m\u001b[1;33m\u001b[0m\u001b[0m\n\u001b[0m",
      "\u001b[1;31mNameError\u001b[0m: name 'Original' is not defined"
     ]
    }
   ],
   "source": [
    "print (Original)"
   ]
  },
  {
   "cell_type": "code",
   "execution_count": 75,
   "metadata": {},
   "outputs": [
    {
     "name": "stdout",
     "output_type": "stream",
     "text": [
      "x is 6\n"
     ]
    }
   ],
   "source": [
    "print (\"x is \" + str(x))"
   ]
  },
  {
   "cell_type": "code",
   "execution_count": 44,
   "metadata": {
    "collapsed": true
   },
   "outputs": [],
   "source": [
    "#making a function\n",
    "def addNum(num1, num2):\n",
    "    return num1 + num2"
   ]
  },
  {
   "cell_type": "code",
   "execution_count": 45,
   "metadata": {},
   "outputs": [
    {
     "data": {
      "text/plain": [
       "13.23"
      ]
     },
     "execution_count": 45,
     "metadata": {},
     "output_type": "execute_result"
    }
   ],
   "source": [
    "#using the function\n",
    "addNum(x, y)"
   ]
  },
  {
   "cell_type": "code",
   "execution_count": 98,
   "metadata": {},
   "outputs": [],
   "source": [
    "#making a function\n",
    "def sortNums(num1, num2, num3):\n",
    "    numbers = [num1, num2, num3]\n",
    "    print (\"Original input: \")\n",
    "    print (numbers)\n",
    "    # print (type(numbers))\n",
    "    print (\"Input sorted: \" )\n",
    "    numbers.sort()\n",
    "    print (numbers)\n",
    "    numbers.reverse()\n",
    "    print (\"Input reverse: \")\n",
    "    print (numbers)"
   ]
  },
  {
   "cell_type": "code",
   "execution_count": 99,
   "metadata": {},
   "outputs": [
    {
     "name": "stdout",
     "output_type": "stream",
     "text": [
      "Original input: \n",
      "[7.23, 12.23, 6]\n",
      "Input sorted: \n",
      "[6, 7.23, 12.23]\n",
      "Input reverse: \n",
      "[12.23, 7.23, 6]\n"
     ]
    }
   ],
   "source": [
    "#using the function\n",
    "sortNums(y,a,x)"
   ]
  },
  {
   "cell_type": "code",
   "execution_count": null,
   "metadata": {
    "collapsed": true
   },
   "outputs": [],
   "source": []
  }
 ],
 "metadata": {
  "kernelspec": {
   "display_name": "Python 3",
   "language": "python",
   "name": "python3"
  },
  "language_info": {
   "codemirror_mode": {
    "name": "ipython",
    "version": 3
   },
   "file_extension": ".py",
   "mimetype": "text/x-python",
   "name": "python",
   "nbconvert_exporter": "python",
   "pygments_lexer": "ipython3",
   "version": "3.6.3"
  },
  "toc": {
   "base_numbering": 1,
   "nav_menu": {},
   "number_sections": false,
   "sideBar": false,
   "skip_h1_title": false,
   "title_cell": "Table of Contents",
   "title_sidebar": "Contents",
   "toc_cell": false,
   "toc_position": {},
   "toc_section_display": false,
   "toc_window_display": false
  }
 },
 "nbformat": 4,
 "nbformat_minor": 2
}
